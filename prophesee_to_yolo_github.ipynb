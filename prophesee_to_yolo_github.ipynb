{
 "cells": [
  {
   "cell_type": "code",
   "execution_count": 26,
   "id": "engaged-necessity",
   "metadata": {},
   "outputs": [],
   "source": [
    "import os \n",
    "import pandas as pd\n",
    "import cv2\n",
    "import numpy as np"
   ]
  },
  {
   "cell_type": "markdown",
   "id": "copyrighted-calendar",
   "metadata": {},
   "source": [
    "## Required paths"
   ]
  },
  {
   "cell_type": "code",
   "execution_count": 27,
   "id": "urban-enterprise",
   "metadata": {},
   "outputs": [],
   "source": [
    "path_bounding_boxes_frames = \"\"\n",
    "\n",
    "root_path = \"\""
   ]
  },
  {
   "cell_type": "markdown",
   "id": "formed-moses",
   "metadata": {},
   "source": [
    "## Dimensions of images (we need to scale coordinate from 0 to 1)\n",
    "\n",
    "Any image is valid, since they have the same size\n",
    "\n",
    "\n"
   ]
  },
  {
   "cell_type": "code",
   "execution_count": 28,
   "id": "multiple-breathing",
   "metadata": {},
   "outputs": [],
   "source": [
    "img = cv2.imread(\"\")\n",
    "height, width, channels = img.shape "
   ]
  },
  {
   "cell_type": "markdown",
   "id": "grave-uruguay",
   "metadata": {},
   "source": [
    "# Deleting empty .txt files\n",
    "\n",
    "This works with our data."
   ]
  },
  {
   "cell_type": "code",
   "execution_count": null,
   "id": "boxed-advancement",
   "metadata": {},
   "outputs": [],
   "source": [
    "os.chdir(path_bounding_boxes_frames)\n",
    "\n",
    "for current_dir, dirs, files in os.walk('.'):\n",
    "    # Going through all files\n",
    "    for f in files:\n",
    "        # Checking if filename ends with '.txt'\n",
    "        if f.endswith('txt') & f.startswith('prophesee'):\n",
    "\n",
    "                bounding_box_count = len(open(f).readlines(  ))\n",
    "                print(bounding_box_count)\n",
    "                if bounding_box_count <2:\n",
    "                    path_to_image = f.replace(\"prophesee_i\",\"i\").replace(\"txt\",\"jpg\")\n",
    "                    os.remove(f)\n",
    "                    try:\n",
    "                        os.remove(path_to_image)\n",
    "                    except:\n",
    "                        pass\n",
    "                    print(\"Done\")"
   ]
  },
  {
   "cell_type": "markdown",
   "id": "broken-civilian",
   "metadata": {},
   "source": [
    "# Finding .txt files in prophesee format (COCO Format) and creating .txt file in YOLO format"
   ]
  },
  {
   "cell_type": "code",
   "execution_count": null,
   "id": "portable-scheduling",
   "metadata": {
    "scrolled": true
   },
   "outputs": [],
   "source": [
    "#Changing to dat_npy_files directory\n",
    "os.chdir(path_bounding_boxes_frames)\n",
    "\n",
    "#We write txt file with the paths of the dat.files we used in root folder\n",
    "\n",
    "\n",
    "countss = 0\n",
    "\n",
    "for current_dir, dirs, files in os.walk('.'):\n",
    "    # Going through all files\n",
    "    for f in files:\n",
    "        # Checking if filename ends with '.txt'\n",
    "        if f.endswith('txt') & f.startswith('prophesee'):\n",
    "                #Loading and formating We have to remove parenthesis and those things:\n",
    "                bounding_box_prophesee_format_df = pd.read_csv(f, header = None)\n",
    "\n",
    "\n",
    "                #Formatting file if it has bounding boxes\n",
    "                bounding_box_prophesee_format_df = bounding_box_prophesee_format_df.replace({r'\\[':'', r'\\]':'',r'\\(':'', r'\\)':''}, regex=True)\n",
    "                bounding_box_prophesee_format_df.apply(pd.to_numeric)\n",
    "\n",
    "                #Setting columns to understand parameters:\n",
    "\n",
    "                bounding_box_prophesee_format_df.columns = ['t','x','y','w','h','class_id','class_confidence','track_id']\n",
    "\n",
    "                #Generating x_center and y_center needed for yolo_format\n",
    "                bounding_box_prophesee_format_df[\"x\"] = bounding_box_prophesee_format_df[\"x\"]/width\n",
    "                bounding_box_prophesee_format_df[\"y\"] = bounding_box_prophesee_format_df[\"y\"]/height\n",
    "                bounding_box_prophesee_format_df[\"w\"] = bounding_box_prophesee_format_df[\"w\"]/width\n",
    "                bounding_box_prophesee_format_df[\"h\"] = bounding_box_prophesee_format_df[\"h\"]/height\n",
    "                bounding_box_prophesee_format_df[\"x_center\"] =  bounding_box_prophesee_format_df[\"x\"] + bounding_box_prophesee_format_df[\"w\"]/2\n",
    "                bounding_box_prophesee_format_df[\"y_center\"] =  bounding_box_prophesee_format_df[\"y\"] + bounding_box_prophesee_format_df[\"h\"]/2\n",
    "\n",
    "                #Generating dataframe only with class, x_center,y_center, width and height (IN THIS ORDER)\n",
    "\n",
    "                bounding_box_yolo_format_df = bounding_box_prophesee_format_df[[\"class_id\",\"x_center\",\"y_center\",\"w\",\"h\"]]\n",
    "\n",
    "\n",
    "                bounding_box_yolo_format_df.loc[bounding_box_yolo_format_df['x_center'] <0, ['x_center'] ] = 0.0001\n",
    "                bounding_box_yolo_format_df.loc[bounding_box_yolo_format_df['y_center'] <0, ['y_center'] ] = 0.0001 \n",
    "                bounding_box_yolo_format_df.loc[bounding_box_yolo_format_df['x_center'] > 1, ['x_center'] ] = 0.999\n",
    "                bounding_box_yolo_format_df.loc[bounding_box_yolo_format_df['y_center'] > 1, ['y_center'] ] = 0.999 \n",
    "\n",
    "\n",
    "\n",
    "\n",
    "\n",
    "                #Generating YOLO format txt file\n",
    "                bounding_box_yolo_format_name = f.replace(\"prophesee_\",\"\")\n",
    "                path_to_save_yolo_txt = path_bounding_boxes_frames + str(\"/\") + bounding_box_yolo_format_name \n",
    "                bounding_box_yolo_format_df.to_csv(path_to_save_yolo_txt, header=False, index=False, sep=' ')\n"
   ]
  },
  {
   "cell_type": "code",
   "execution_count": 41,
   "id": "corporate-gentleman",
   "metadata": {},
   "outputs": [
    {
     "name": "stdout",
     "output_type": "stream",
     "text": [
      "54\n"
     ]
    }
   ],
   "source": [
    "path = \"\"\n",
    "bounding_box_count = len(open(path).readlines(  ))\n",
    "path_2 = path.replace(\"prophesee_i\",\"i\").replace(\"txt\",\"jpg\") \n",
    "\n",
    "print(bounding_box_count)\n"
   ]
  },
  {
   "cell_type": "code",
   "execution_count": 38,
   "id": "unsigned-sample",
   "metadata": {},
   "outputs": [],
   "source": [
    "os.chdir(path_bounding_boxes_frames)\n",
    "\n",
    "for current_dir, dirs, files in os.walk('.'):\n",
    "    # Going through all files\n",
    "    for f in files:\n",
    "        # Checking if filename ends with '.txt'\n",
    "        if f.endswith('txt') & f.startswith('prophesee'):\n",
    "            path_to_text = f.replace(\"prophesee_i\",\"i\")\n",
    "            path_to_image = f.replace(\"prophesee_i\",\"i\").replace(\"txt\",\"jpg\")\n",
    "            if os.path.isfile(path_to_image) == False:\n",
    "                print(\"Texto\")\n",
    "                #os.remove(path_to_image)\n",
    "                print(path_to_image)\n",
    "            if os.path.isfile(path_to_text) == False:\n",
    "                print(\"Imagen\")\n",
    "                #os.remove(f.replace(\"prophesee_i\",\"i\"))\n",
    "                print(path_to_text)\n",
    "            "
   ]
  },
  {
   "cell_type": "code",
   "execution_count": 35,
   "id": "olive-powder",
   "metadata": {},
   "outputs": [],
   "source": [
    "os.chdir(path_bounding_boxes_frames)\n",
    "\n",
    "for current_dir, dirs, files in os.walk('.'):\n",
    "    # Going through all files\n",
    "    for f in files:\n",
    "        # Checking if filename ends with '.txt'\n",
    "        if f.endswith('txt') & f.startswith('prophesee'):\n",
    "            path_to_text = f.replace(\"prophesee_i\",\"i\")\n",
    "            os.remove(path_to_text)"
   ]
  },
  {
   "cell_type": "code",
   "execution_count": null,
   "id": "large-israeli",
   "metadata": {},
   "outputs": [],
   "source": []
  }
 ],
 "metadata": {
  "kernelspec": {
   "display_name": "Python 3",
   "language": "python",
   "name": "python3"
  },
  "language_info": {
   "codemirror_mode": {
    "name": "ipython",
    "version": 3
   },
   "file_extension": ".py",
   "mimetype": "text/x-python",
   "name": "python",
   "nbconvert_exporter": "python",
   "pygments_lexer": "ipython3",
   "version": "3.7.10"
  }
 },
 "nbformat": 4,
 "nbformat_minor": 5
}
