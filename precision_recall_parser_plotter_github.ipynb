{
  "nbformat": 4,
  "nbformat_minor": 0,
  "metadata": {
    "kernelspec": {
      "display_name": "Python 3",
      "language": "python",
      "name": "python3"
    },
    "language_info": {
      "codemirror_mode": {
        "name": "ipython",
        "version": 3
      },
      "file_extension": ".py",
      "mimetype": "text/x-python",
      "name": "python",
      "nbconvert_exporter": "python",
      "pygments_lexer": "ipython3",
      "version": "3.8.5"
    },
    "colab": {
      "name": "precision_recall_parser_plotter.ipynb",
      "provenance": []
    }
  },
  "cells": [
    {
      "cell_type": "code",
      "metadata": {
        "id": "BTPT2_JZAYZJ"
      },
      "source": [
        "import matplotlib.pyplot as plt\n",
        "import pandas as pd\n",
        "import re\n",
        "import numpy as np\n",
        "import os \n",
        "\n"
      ],
      "execution_count": null,
      "outputs": []
    },
    {
      "cell_type": "markdown",
      "metadata": {
        "id": "Gu7HTFsbAYZL"
      },
      "source": [
        "Please, place .txt files in the same folder as this notebook. Otherwise, you will have to change the path of the .txt files in the code."
      ]
    },
    {
      "cell_type": "markdown",
      "metadata": {
        "id": "uq0LYWh_AYZM"
      },
      "source": [
        "## Parsing"
      ]
    },
    {
      "cell_type": "code",
      "metadata": {
        "id": "yq_pO3g8AYZM"
      },
      "source": [
        "def parser(original_text,parsed_txt):\n",
        "  \n",
        "    prerec = open(original_text, 'r') #original file\n",
        "    parsed_prerec= open(parsed_txt,\"w\") #new file\n",
        "\n",
        "    # Reading from the file\n",
        "    content = prerec.readlines()\n",
        "\n",
        "\n",
        "    # For each line of the file\n",
        "    for line in content:\n",
        "\n",
        "            #Find floats in each line\n",
        "            result = re.findall(r\"[-+]?\\d*\\.\\d+|\\d+\", line) #gives a list\n",
        "            for item in result: \n",
        "                parsed_prerec.write(f'{float(item)} ') #add elements in each line\n",
        "\n",
        "            parsed_prerec.write(\"\\n\") #change line in .txt file\n",
        "\n",
        "    parsed_prerec.close()\n",
        "    prerec.close()"
      ],
      "execution_count": null,
      "outputs": []
    },
    {
      "cell_type": "code",
      "metadata": {
        "id": "xNq4pkGiAYZN"
      },
      "source": [
        "#Changing to .txt directory\n",
        "\n",
        "txt_directories = []\n",
        "\n",
        "for current_dir, dirs, files in os.walk('.'):\n",
        "    # Going through all files\n",
        "    for f in files:\n",
        "        # Checking if filename ends with '.ppm'\n",
        "        if f.endswith('iou.txt'):\n",
        "            #Saving dat file each to the txt fil\n",
        "            print(f)\n",
        "            parsed_txt = f[:-4] + \"_new.txt\"\n",
        "            print(parsed_txt)\n",
        "            parser(str(f),str(parsed_txt))\n"
      ],
      "execution_count": null,
      "outputs": []
    },
    {
      "cell_type": "code",
      "metadata": {
        "id": "UTLBuaw5AYZO"
      },
      "source": [
        ""
      ],
      "execution_count": null,
      "outputs": []
    },
    {
      "cell_type": "markdown",
      "metadata": {
        "id": "59Jx663PAYZO"
      },
      "source": [
        "## Preparing data for plots"
      ]
    },
    {
      "cell_type": "code",
      "metadata": {
        "id": "xj84ZRAfAYZP"
      },
      "source": [
        "def precision_recall_reader(text):\n",
        "\n",
        "    columns = [\"class_id\", \"point\", \"cur_recall\", \"cur_precision\",\"Nan\"] #\"Nan\" required to delete extra column in the end\n",
        "\n",
        "    df = pd.read_csv(text,header=None,sep= \" \")\n",
        "    df.columns = columns\n",
        "    precision = df[\"cur_precision\"].tolist()\n",
        "    recall = df[\"cur_recall\"].tolist()\n",
        "    return precision,recall"
      ],
      "execution_count": null,
      "outputs": []
    },
    {
      "cell_type": "code",
      "metadata": {
        "id": "GljpAkUyAYZP"
      },
      "source": [
        "#List to store precisions and recalls for each iou\n",
        "precision_iou = []\n",
        "recall_iou = []\n",
        "\n",
        "\n",
        "#Going through files for different IoUs\n",
        "\n",
        "for current_dir, dirs, files in os.walk('.'):\n",
        "    # Going through all files\n",
        "    for f in files:\n",
        "        # Checking if filename ends with '.ppm'\n",
        "        if f.endswith('_new.txt'):\n",
        "            prec,rec = precision_recall_reader(str(f))\n",
        "            precision_iou.append(prec)\n",
        "            recall_iou.append(rec)\n",
        "            "
      ],
      "execution_count": null,
      "outputs": []
    },
    {
      "cell_type": "markdown",
      "metadata": {
        "id": "JALQs1ZYAYZQ"
      },
      "source": [
        "## Plotting"
      ]
    },
    {
      "cell_type": "code",
      "metadata": {
        "scrolled": true,
        "id": "uqtnGGFSAYZQ"
      },
      "source": [
        "#We have 101 points for each class and 7 clases in each element of precision_iou, so classes start at index 0,101,202...\n",
        "#We create a plot for each class, with 5 curves\n",
        "\n",
        "labels = [\"peatones\",\"vehículos de dos ruedas\",\"coches\",\"camiones\",\"buses\",\"señales de tráfico\",\"semáforos\"] #classes \n",
        "iou = np.arange(0.5,1.05,0.1)\n",
        "\n",
        "\n",
        "#Each plot is generated with 101 points\n",
        "for i in range(0,101*7,101):\n",
        "    plt.figure()\n",
        "    #Each chart has 5 curves\n",
        "    for j in range(len(precision_iou)):\n",
        "            plt.plot(recall_iou[j][i:i+101],precision_iou[j][i:i+101],label=f\"IoU: {iou[j]}\")           \n",
        "    plt.xlabel('Cobertura',fontsize=16)\n",
        "    plt.ylabel('Precisión',fontsize=16)\n",
        "    plt.xticks(np.arange(0, 1, step=0.1))\n",
        "    ax.set_yticks(np.arange(0, 1, step=0.1))\n",
        "    plt.savefig(f\"prerec_{labels[int(i/101)]}.png\",dpi=350)\n",
        "    a = plt.legend()\n",
        "    plt.show()\n",
        "\n",
        "\n",
        "    \n",
        "    "
      ],
      "execution_count": null,
      "outputs": []
    },
    {
      "cell_type": "code",
      "metadata": {
        "id": "sFjQ-F8ZAYZR"
      },
      "source": [
        ""
      ],
      "execution_count": null,
      "outputs": []
    }
  ]
}